{
 "cells": [
  {
   "cell_type": "code",
   "execution_count": 1,
   "metadata": {},
   "outputs": [
    {
     "name": "stdout",
     "output_type": "stream",
     "text": [
      "Statistics=50.183, p=0.0000000043\n",
      "Different distributions (reject H0)\n",
      "[[6.  5.  6.  5.  6.  6.5 6.  5.  6. ]\n",
      " [5.  6.  5.  7.  7.  5.  5.  6.  5. ]\n",
      " [2.  2.  2.  2.  2.  1.  2.  2.  2. ]\n",
      " [1.  1.  1.  1.  1.  3.  1.  1.  1. ]\n",
      " [3.  3.  3.  3.  3.  2.  3.  3.  3. ]\n",
      " [4.  4.  4.  4.  4.  4.  4.  4.  4. ]\n",
      " [7.  7.  7.  6.  5.  6.5 7.  7.  7. ]]\n",
      "+----------+-------+-----------+---------------+---------+----------+-------+-------------+\n",
      "|          |  SGDC | LinearSVC | Decision Tree | Bagging | Boosting |  KNN  | Naive Bayes |\n",
      "+----------+-------+-----------+---------------+---------+----------+-------+-------------+\n",
      "| Avg rank | 5.722 |   5.667   |     1.889     |  1.222  |  2.889   | 4.000 |    6.611    |\n",
      "+----------+-------+-----------+---------------+---------+----------+-------+-------------+\n",
      "Critical Difference:  3.0024221273227116\n"
     ]
    }
   ],
   "source": [
    "from math import sqrt\n",
    "from numpy.random import seed\n",
    "from numpy.random import randn\n",
    "from numpy import mean\n",
    "from scipy.stats import sem\n",
    "from scipy.stats import t\n",
    " \n",
    "\n",
    "def Nemenyi_Test():\n",
    "    from scipy.stats import friedmanchisquare\n",
    "    import numpy as np \n",
    "    import scipy.stats as ss\n",
    "    import Orange\n",
    "    import matplotlib\n",
    "    matplotlib.use('TkAgg')\n",
    "    import matplotlib.pyplot as plt\n",
    "    \n",
    "    sgdc = [0.391, 0.384, 0.446, 0.356, 0.344, 0.376, 0.338, 0.391, 0.405]\n",
    "\n",
    "    svc = [0.411, 0.377, 0.447, 0.340, 0.328, 0.381, 0.346, 0.377, 0.410]\n",
    "\n",
    "    dt = [0.877, 0.868, 0.944, 0.825, 0.765, 0.968, 0.870, 0.877, 0.945]\n",
    "\n",
    "    bagging = [0.892, 0.872, 0.947, 0.839, 0.779, 0.964, 0.873, 0.895, 0.951]\n",
    "\n",
    "    boosting = [0.873, 0.855, 0.939, 0.823, 0.762, 0.967, 0.859, 0.873, 0.938]\n",
    "\n",
    "    knn = [0.753, 0.683, 0.882, 0.557, 0.577, 0.796, 0.684, 0.753, 0.882]\n",
    "\n",
    "    nb = [0.222, 0.195, 0.220, 0.350, 0.351, 0.376, 0.306, 0.293, 0.390]\n",
    "    stat, p = friedmanchisquare(sgdc, svc, dt, bagging, boosting, knn, nb)\n",
    "\n",
    "    print('Statistics=%.3f, p=%.10f' % (stat, p))\n",
    "    alpha = 0.05\n",
    "    if p > alpha:\n",
    "        print('Same distributions (fail to reject H0)')\n",
    "    else:\n",
    "        print('Different distributions (reject H0)')\n",
    "\n",
    "    matrix = np.array([sgdc, svc, dt, bagging, boosting, knn, nb])\n",
    "    matrix = matrix.transpose()\n",
    "    matrix_ranking = []\n",
    "    for row in matrix:\n",
    "        matrix_ranking.append(list(len(row)+1-ss.rankdata(row)))\n",
    "    matrix_ranking = np.array(matrix_ranking).transpose()\n",
    "\n",
    "    print(matrix_ranking)\n",
    "    names = [\"SGDC\", \"Linear SVC\", \"Decision Tree\", \"Bagging\", \"Boosting\", \"KNN\", \"Naive Bayes\"]\n",
    "    avranks = np.average(matrix_ranking, axis=1)\n",
    "    from prettytable import PrettyTable\n",
    "    t = PrettyTable([\"\", \"SGDC\", \"LinearSVC\", \"Decision Tree\", \"Bagging\", \"Boosting\", \"KNN\", \"Naive Bayes\"])\n",
    "    t.add_row(['Avg rank', '{0:.3f}'.format(float(avranks[0])), '{0:.3f}'.format(float(avranks[1])), '{0:.3f}'.format(float(avranks[2])),\n",
    "                      '{0:.3f}'.format(float(avranks[3])), '{0:.3f}'.format(float(avranks[4])),\n",
    "              '{0:.3f}'.format(float(avranks[5])), '{0:.3f}'.format(float(avranks[6]))])\n",
    "    print(t)\n",
    "    cd = Orange.evaluation.compute_CD(avranks, 9)\n",
    "    print(\"Critical Difference: \", cd)\n",
    "    Orange.evaluation.graph_ranks(avranks, names, cd=cd, width=6, textspace=1.5)\n",
    "    plt.savefig('Critical difference diagram.pdf')\n",
    "\n",
    "Nemenyi_Test()"
   ]
  },
  {
   "cell_type": "code",
   "execution_count": null,
   "metadata": {},
   "outputs": [],
   "source": []
  }
 ],
 "metadata": {
  "kernelspec": {
   "display_name": "Python 3",
   "language": "python",
   "name": "python3"
  },
  "language_info": {
   "codemirror_mode": {
    "name": "ipython",
    "version": 3
   },
   "file_extension": ".py",
   "mimetype": "text/x-python",
   "name": "python",
   "nbconvert_exporter": "python",
   "pygments_lexer": "ipython3",
   "version": "3.7.3"
  }
 },
 "nbformat": 4,
 "nbformat_minor": 2
}
